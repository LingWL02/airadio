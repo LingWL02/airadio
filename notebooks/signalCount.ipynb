{
 "cells": [
  {
   "cell_type": "code",
   "execution_count": null,
   "id": "8e8a4c92",
   "metadata": {},
   "outputs": [],
   "source": [
    "import torch\n",
    "import torch.nn as nn\n",
    "from torch.utils.data import Dataset, DataLoader\n",
    "import numpy as np"
   ]
  },
  {
   "cell_type": "code",
   "execution_count": null,
   "id": "ea85ccea",
   "metadata": {},
   "outputs": [],
   "source": [
    "class SignalCountClassifier(nn.Module):\n",
    "    def __init__(self, input_dim=1024, num_classes=3):  # 2 to 4 signals\n",
    "        super().__init__()\n",
    "        self.model = nn.Sequential(\n",
    "            nn.Linear(input_dim, 512),\n",
    "            nn.ReLU(),\n",
    "            nn.Linear(512, 256),\n",
    "            nn.ReLU(),\n",
    "            nn.Linear(256, num_classes)  # logits\n",
    "        )\n",
    "\n",
    "    def forward(self, x):\n",
    "        return self.model(x)  # Use CrossEntropyLoss\n"
   ]
  },
  {
   "cell_type": "code",
   "execution_count": null,
   "id": "c4ed6242",
   "metadata": {},
   "outputs": [],
   "source": [
    "class SignalCountDataset(Dataset):\n",
    "    def __init__(self, fft_data, signal_counts, input_dim=1024):\n",
    "        self.fft_data = fft_data\n",
    "        self.signal_counts = signal_counts\n",
    "        self.input_dim = input_dim\n",
    "\n",
    "    def __len__(self):\n",
    "        return len(self.fft_data)\n",
    "\n",
    "    def __getitem__(self, idx):\n",
    "        spectrum = self.fft_data[idx][:self.input_dim]\n",
    "        spectrum = np.log1p(spectrum)\n",
    "        spectrum = (spectrum - np.mean(spectrum)) / (np.std(spectrum) + 1e-6)\n",
    "        label = self.signal_counts[idx] - 2  # map 2,3,4 → 0,1,2\n",
    "        return torch.tensor(spectrum, dtype=torch.float32), torch.tensor(label, dtype=torch.long)"
   ]
  },
  {
   "cell_type": "code",
   "execution_count": null,
   "id": "9396bcf5",
   "metadata": {},
   "outputs": [],
   "source": [
    "def train_model(model, dataloader, optimizer, epochs=5):\n",
    "    criterion = nn.CrossEntropyLoss()\n",
    "    model.train()\n",
    "    for epoch in range(epochs):\n",
    "        total_loss, correct, total = 0, 0, 0\n",
    "        for x, y in dataloader:\n",
    "            optimizer.zero_grad()\n",
    "            output = model(x)\n",
    "            loss = criterion(output, y)\n",
    "            loss.backward()\n",
    "            optimizer.step()\n",
    "            total_loss += loss.item()\n",
    "            pred = output.argmax(dim=1)\n",
    "            correct += (pred == y).sum().item()\n",
    "            total += y.size(0)\n",
    "        print(f\"Epoch {epoch+1}, Loss: {total_loss/len(dataloader):.4f}, Acc: {correct/total:.4f}\")\n"
   ]
  },
  {
   "cell_type": "code",
   "execution_count": null,
   "id": "64b8542e",
   "metadata": {},
   "outputs": [],
   "source": [
    "if __name__ == \"__main__\":\n",
    "    # Simulate data\n",
    "    N = 50\n",
    "    fft_data = [np.abs(np.random.randn(2048)) for _ in range(N)]  # reduced FFT size\n",
    "    signal_counts = np.random.choice([2, 3, 4], size=N)\n",
    "\n",
    "    # Dataloader\n",
    "    dataset = SignalCountDataset(fft_magnitude_shifted, signal_counts)\n",
    "    loader = DataLoader(dataset, batch_size=8, shuffle=True)\n",
    "\n",
    "    # Model\n",
    "    model = SignalCountClassifier()\n",
    "    optimizer = torch.optim.Adam(model.parameters(), lr=1e-3)\n",
    "\n",
    "    # Train\n",
    "    train_model(model, loader, optimizer)"
   ]
  }
 ],
 "metadata": {
  "kernelspec": {
   "display_name": "base",
   "language": "python",
   "name": "python3"
  },
  "language_info": {
   "codemirror_mode": {
    "name": "ipython",
    "version": 3
   },
   "file_extension": ".py",
   "mimetype": "text/x-python",
   "name": "python",
   "nbconvert_exporter": "python",
   "pygments_lexer": "ipython3",
   "version": "3.12.2"
  }
 },
 "nbformat": 4,
 "nbformat_minor": 5
}
