{
 "cells": [
  {
   "cell_type": "code",
   "execution_count": 7,
   "id": "c79230d7",
   "metadata": {},
   "outputs": [],
   "source": [
    "import sys, os\n",
    "sys.path.append(os.path.abspath('C:/Users/user/airadio-1'))"
   ]
  },
  {
   "cell_type": "code",
   "execution_count": 8,
   "id": "5611420f",
   "metadata": {},
   "outputs": [],
   "source": [
    "import h5py\n",
    "import ast\n",
    "import numpy as np\n",
    "import torch\n",
    "\n",
    "from modules.h5_lazy_dataset import H5LazyDataset"
   ]
  },
  {
   "cell_type": "code",
   "execution_count": 9,
   "id": "b9acc955",
   "metadata": {},
   "outputs": [],
   "source": [
    "h5_lazy_dataset = H5LazyDataset('C:/Users/user/Downloads/data_and_code/train.h5', 'waveforms', 'labels')\n"
   ]
  },
  {
   "cell_type": "code",
   "execution_count": 10,
   "id": "444afa94",
   "metadata": {},
   "outputs": [
    {
     "data": {
      "text/plain": [
       "(tensor([1449.5000-1258.7500j,  220.6873-1669.7212j, -820.0812-1088.2631j,\n",
       "          ..., 1629.7960+2660.6335j, 2147.4475+1187.3602j,\n",
       "         1747.3583+329.7154j]),\n",
       " tensor([[2442., 2452.],\n",
       "         [2445., 2447.],\n",
       "         [2433., 2435.],\n",
       "         [2422., 2462.]]))"
      ]
     },
     "execution_count": 10,
     "metadata": {},
     "output_type": "execute_result"
    }
   ],
   "source": [
    "h5_lazy_dataset[100]"
   ]
  }
 ],
 "metadata": {
  "kernelspec": {
   "display_name": "ml",
   "language": "python",
   "name": "python3"
  },
  "language_info": {
   "codemirror_mode": {
    "name": "ipython",
    "version": 3
   },
   "file_extension": ".py",
   "mimetype": "text/x-python",
   "name": "python",
   "nbconvert_exporter": "python",
   "pygments_lexer": "ipython3",
   "version": "3.12.11"
  }
 },
 "nbformat": 4,
 "nbformat_minor": 5
}
