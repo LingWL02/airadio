{
 "cells": [
  {
   "cell_type": "code",
   "execution_count": 1,
   "id": "c79230d7",
   "metadata": {},
   "outputs": [],
   "source": [
    "import os\n",
    "os.chdir('..')"
   ]
  },
  {
   "cell_type": "code",
   "execution_count": null,
   "id": "5611420f",
   "metadata": {},
   "outputs": [],
   "source": [
    "import h5py\n",
    "import ast\n",
    "import numpy as np\n",
    "import torch"
   ]
  },
  {
   "cell_type": "code",
   "execution_count": 3,
   "id": "b9acc955",
   "metadata": {},
   "outputs": [],
   "source": [
    "train_file: h5py.File = h5py.File(\"train.h5\", \"r\")"
   ]
  },
  {
   "cell_type": "code",
   "execution_count": 4,
   "id": "5487e364",
   "metadata": {},
   "outputs": [],
   "source": [
    "train_waveforms: torch.Tensor | None = None\n",
    "train_labels: torch.Tensor | None = None\n",
    "temp: np.bytes_ | None = None\n",
    "with train_file as t_f:\n",
    "    # train_waveforms = torch.from_numpy(t_f['waveforms'][:])\n",
    "    # train_labels = torch.from_numpy(t_f['labels'][:])\n",
    "    temp = t_f['labels'][:][0]"
   ]
  },
  {
   "cell_type": "code",
   "execution_count": null,
   "id": "b25c6013",
   "metadata": {},
   "outputs": [
    {
     "name": "stdout",
     "output_type": "stream",
     "text": [
      "b'[[2427.0, 2447.0], [2422.0, 2432.0], [2422.0, 2432.0], [2427.0, 2447.0]]'\n"
     ]
    }
   ],
   "source": []
  }
 ],
 "metadata": {
  "kernelspec": {
   "display_name": "ml",
   "language": "python",
   "name": "python3"
  },
  "language_info": {
   "codemirror_mode": {
    "name": "ipython",
    "version": 3
   },
   "file_extension": ".py",
   "mimetype": "text/x-python",
   "name": "python",
   "nbconvert_exporter": "python",
   "pygments_lexer": "ipython3",
   "version": "3.12.11"
  }
 },
 "nbformat": 4,
 "nbformat_minor": 5
}
