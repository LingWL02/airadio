{
 "cells": [
  {
   "cell_type": "code",
   "execution_count": 1,
   "id": "c79230d7",
   "metadata": {},
   "outputs": [],
   "source": [
    "import os\n",
    "os.chdir('..')"
   ]
  },
  {
   "cell_type": "code",
   "execution_count": 2,
   "id": "5611420f",
   "metadata": {},
   "outputs": [],
   "source": [
    "import h5py\n",
    "import ast\n",
    "import numpy as np\n",
    "import torch\n",
    "import matplotlib.pyplot as plt\n",
    "\n",
    "from modules.h5_lazy_dataset import H5LazyDataset"
   ]
  },
  {
   "cell_type": "code",
   "execution_count": 3,
   "id": "ac640d24",
   "metadata": {},
   "outputs": [],
   "source": [
    "FS: float = 100_000_000"
   ]
  },
  {
   "cell_type": "code",
   "execution_count": null,
   "id": "b9acc955",
   "metadata": {},
   "outputs": [
    {
     "name": "stdout",
     "output_type": "stream",
     "text": [
      "Loading dataset from data/train/train.h5...\n"
     ]
    }
   ],
   "source": [
    "h5_lazy_dataset = H5LazyDataset(\n",
    "    'data/train/train.h5', 'waveforms', 'labels',\n",
    "    data_transforms=(\n",
    "        torch.tensor,\n",
    "    ),\n",
    "    label_transforms=(\n",
    "        lambda _bytes: _bytes.decode('utf-8'),\n",
    "        ast.literal_eval,\n",
    "        torch.tensor,\n",
    "    ),\n",
    ")"
   ]
  },
  {
   "cell_type": "code",
   "execution_count": 5,
   "id": "9c8f0f97",
   "metadata": {},
   "outputs": [
    {
     "name": "stdout",
     "output_type": "stream",
     "text": [
      "<class 'modules.h5_lazy_dataset.H5LazyDataset'>\n"
     ]
    }
   ],
   "source": [
    "print(type(h5_lazy_dataset))"
   ]
  },
  {
   "cell_type": "code",
   "execution_count": 6,
   "id": "444afa94",
   "metadata": {},
   "outputs": [
    {
     "ename": "ValueError",
     "evalue": "malformed node or string: np.bytes_(b'[[2427.0, 2447.0], [2422.0, 2432.0], [2422.0, 2432.0], [2427.0, 2447.0]]')",
     "output_type": "error",
     "traceback": [
      "\u001b[31m---------------------------------------------------------------------------\u001b[39m",
      "\u001b[31mValueError\u001b[39m                                Traceback (most recent call last)",
      "\u001b[36mCell\u001b[39m\u001b[36m \u001b[39m\u001b[32mIn[6]\u001b[39m\u001b[32m, line 3\u001b[39m\n\u001b[32m      1\u001b[39m waveform: torch.Tensor\n\u001b[32m      2\u001b[39m label: torch.Tensor\n\u001b[32m----> \u001b[39m\u001b[32m3\u001b[39m waveform, label = \u001b[43mh5_lazy_dataset\u001b[49m\u001b[43m[\u001b[49m\u001b[32;43m0\u001b[39;49m\u001b[43m]\u001b[49m\n",
      "\u001b[36mFile \u001b[39m\u001b[32mc:\\git\\airadio\\modules\\h5_lazy_dataset\\__init__.py:38\u001b[39m, in \u001b[36mH5LazyDataset.__getitem__\u001b[39m\u001b[34m(self, index)\u001b[39m\n\u001b[32m     35\u001b[39m label: Any = f[\u001b[38;5;28mself\u001b[39m.label_key][index]\n\u001b[32m     37\u001b[39m data_transformed: torch.Tensor = reduce(\u001b[38;5;28;01mlambda\u001b[39;00m _data, transformer: transformer(_data), \u001b[38;5;28mself\u001b[39m.data_transforms, data)\n\u001b[32m---> \u001b[39m\u001b[32m38\u001b[39m label_transformed: torch.Tensor = \u001b[43mreduce\u001b[49m\u001b[43m(\u001b[49m\u001b[38;5;28;43;01mlambda\u001b[39;49;00m\u001b[43m \u001b[49m\u001b[43m_label\u001b[49m\u001b[43m,\u001b[49m\u001b[43m \u001b[49m\u001b[43mtransformer\u001b[49m\u001b[43m:\u001b[49m\u001b[43m \u001b[49m\u001b[43mtransformer\u001b[49m\u001b[43m(\u001b[49m\u001b[43m_label\u001b[49m\u001b[43m)\u001b[49m\u001b[43m,\u001b[49m\u001b[43m \u001b[49m\u001b[38;5;28;43mself\u001b[39;49m\u001b[43m.\u001b[49m\u001b[43mlabel_transforms\u001b[49m\u001b[43m,\u001b[49m\u001b[43m \u001b[49m\u001b[43mlabel\u001b[49m\u001b[43m)\u001b[49m\n\u001b[32m     40\u001b[39m \u001b[38;5;28;01mreturn\u001b[39;00m data_transformed, label_transformed\n",
      "\u001b[36mFile \u001b[39m\u001b[32mc:\\git\\airadio\\modules\\h5_lazy_dataset\\__init__.py:38\u001b[39m, in \u001b[36mH5LazyDataset.__getitem__.<locals>.<lambda>\u001b[39m\u001b[34m(_label, transformer)\u001b[39m\n\u001b[32m     35\u001b[39m label: Any = f[\u001b[38;5;28mself\u001b[39m.label_key][index]\n\u001b[32m     37\u001b[39m data_transformed: torch.Tensor = reduce(\u001b[38;5;28;01mlambda\u001b[39;00m _data, transformer: transformer(_data), \u001b[38;5;28mself\u001b[39m.data_transforms, data)\n\u001b[32m---> \u001b[39m\u001b[32m38\u001b[39m label_transformed: torch.Tensor = reduce(\u001b[38;5;28;01mlambda\u001b[39;00m _label, transformer: \u001b[43mtransformer\u001b[49m\u001b[43m(\u001b[49m\u001b[43m_label\u001b[49m\u001b[43m)\u001b[49m, \u001b[38;5;28mself\u001b[39m.label_transforms, label)\n\u001b[32m     40\u001b[39m \u001b[38;5;28;01mreturn\u001b[39;00m data_transformed, label_transformed\n",
      "\u001b[36mFile \u001b[39m\u001b[32mc:\\Users\\bandu\\anaconda3\\envs\\ml\\Lib\\ast.py:112\u001b[39m, in \u001b[36mliteral_eval\u001b[39m\u001b[34m(node_or_string)\u001b[39m\n\u001b[32m    110\u001b[39m                 \u001b[38;5;28;01mreturn\u001b[39;00m left - right\n\u001b[32m    111\u001b[39m     \u001b[38;5;28;01mreturn\u001b[39;00m _convert_signed_num(node)\n\u001b[32m--> \u001b[39m\u001b[32m112\u001b[39m \u001b[38;5;28;01mreturn\u001b[39;00m \u001b[43m_convert\u001b[49m\u001b[43m(\u001b[49m\u001b[43mnode_or_string\u001b[49m\u001b[43m)\u001b[49m\n",
      "\u001b[36mFile \u001b[39m\u001b[32mc:\\Users\\bandu\\anaconda3\\envs\\ml\\Lib\\ast.py:111\u001b[39m, in \u001b[36mliteral_eval.<locals>._convert\u001b[39m\u001b[34m(node)\u001b[39m\n\u001b[32m    109\u001b[39m         \u001b[38;5;28;01melse\u001b[39;00m:\n\u001b[32m    110\u001b[39m             \u001b[38;5;28;01mreturn\u001b[39;00m left - right\n\u001b[32m--> \u001b[39m\u001b[32m111\u001b[39m \u001b[38;5;28;01mreturn\u001b[39;00m \u001b[43m_convert_signed_num\u001b[49m\u001b[43m(\u001b[49m\u001b[43mnode\u001b[49m\u001b[43m)\u001b[49m\n",
      "\u001b[36mFile \u001b[39m\u001b[32mc:\\Users\\bandu\\anaconda3\\envs\\ml\\Lib\\ast.py:85\u001b[39m, in \u001b[36mliteral_eval.<locals>._convert_signed_num\u001b[39m\u001b[34m(node)\u001b[39m\n\u001b[32m     83\u001b[39m     \u001b[38;5;28;01melse\u001b[39;00m:\n\u001b[32m     84\u001b[39m         \u001b[38;5;28;01mreturn\u001b[39;00m - operand\n\u001b[32m---> \u001b[39m\u001b[32m85\u001b[39m \u001b[38;5;28;01mreturn\u001b[39;00m \u001b[43m_convert_num\u001b[49m\u001b[43m(\u001b[49m\u001b[43mnode\u001b[49m\u001b[43m)\u001b[49m\n",
      "\u001b[36mFile \u001b[39m\u001b[32mc:\\Users\\bandu\\anaconda3\\envs\\ml\\Lib\\ast.py:76\u001b[39m, in \u001b[36mliteral_eval.<locals>._convert_num\u001b[39m\u001b[34m(node)\u001b[39m\n\u001b[32m     74\u001b[39m \u001b[38;5;28;01mdef\u001b[39;00m\u001b[38;5;250m \u001b[39m\u001b[34m_convert_num\u001b[39m(node):\n\u001b[32m     75\u001b[39m     \u001b[38;5;28;01mif\u001b[39;00m \u001b[38;5;129;01mnot\u001b[39;00m \u001b[38;5;28misinstance\u001b[39m(node, Constant) \u001b[38;5;129;01mor\u001b[39;00m \u001b[38;5;28mtype\u001b[39m(node.value) \u001b[38;5;129;01mnot\u001b[39;00m \u001b[38;5;129;01min\u001b[39;00m (\u001b[38;5;28mint\u001b[39m, \u001b[38;5;28mfloat\u001b[39m, \u001b[38;5;28mcomplex\u001b[39m):\n\u001b[32m---> \u001b[39m\u001b[32m76\u001b[39m         \u001b[43m_raise_malformed_node\u001b[49m\u001b[43m(\u001b[49m\u001b[43mnode\u001b[49m\u001b[43m)\u001b[49m\n\u001b[32m     77\u001b[39m     \u001b[38;5;28;01mreturn\u001b[39;00m node.value\n",
      "\u001b[36mFile \u001b[39m\u001b[32mc:\\Users\\bandu\\anaconda3\\envs\\ml\\Lib\\ast.py:73\u001b[39m, in \u001b[36mliteral_eval.<locals>._raise_malformed_node\u001b[39m\u001b[34m(node)\u001b[39m\n\u001b[32m     71\u001b[39m \u001b[38;5;28;01mif\u001b[39;00m lno := \u001b[38;5;28mgetattr\u001b[39m(node, \u001b[33m'\u001b[39m\u001b[33mlineno\u001b[39m\u001b[33m'\u001b[39m, \u001b[38;5;28;01mNone\u001b[39;00m):\n\u001b[32m     72\u001b[39m     msg += \u001b[33mf\u001b[39m\u001b[33m'\u001b[39m\u001b[33m on line \u001b[39m\u001b[38;5;132;01m{\u001b[39;00mlno\u001b[38;5;132;01m}\u001b[39;00m\u001b[33m'\u001b[39m\n\u001b[32m---> \u001b[39m\u001b[32m73\u001b[39m \u001b[38;5;28;01mraise\u001b[39;00m \u001b[38;5;167;01mValueError\u001b[39;00m(msg + \u001b[33mf\u001b[39m\u001b[33m'\u001b[39m\u001b[33m: \u001b[39m\u001b[38;5;132;01m{\u001b[39;00mnode\u001b[38;5;132;01m!r}\u001b[39;00m\u001b[33m'\u001b[39m)\n",
      "\u001b[31mValueError\u001b[39m: malformed node or string: np.bytes_(b'[[2427.0, 2447.0], [2422.0, 2432.0], [2422.0, 2432.0], [2427.0, 2447.0]]')"
     ]
    }
   ],
   "source": [
    "waveform: torch.Tensor\n",
    "label: torch.Tensor\n",
    "waveform, label = h5_lazy_dataset[0]"
   ]
  },
  {
   "cell_type": "code",
   "execution_count": null,
   "id": "2e76ad5d",
   "metadata": {},
   "outputs": [
    {
     "name": "stdout",
     "output_type": "stream",
     "text": [
      "[ 3633.75   +1094.75j    1841.57   -2087.903j   -978.80225-1032.3933j ...\n",
      "  3684.816  +1735.1885j  2502.5044 -1987.3585j -1170.4862 -1967.5258j] b'[[2427.0, 2447.0], [2422.0, 2432.0], [2422.0, 2432.0], [2427.0, 2447.0]]'\n"
     ]
    }
   ],
   "source": [
    "print(waveform, label)"
   ]
  },
  {
   "cell_type": "code",
   "execution_count": null,
   "id": "7034853b",
   "metadata": {},
   "outputs": [],
   "source": [
    "fft_waveform: np.ndarray = np.fft.fft(waveform)\n",
    "fft_magnitude: np.ndarray = np.abs(fft_waveform)\n",
    "freqs: np.ndarray = np.fft.fftfreq(len(waveform), d=1/FS)"
   ]
  },
  {
   "cell_type": "code",
   "execution_count": null,
   "id": "cd6742a8",
   "metadata": {},
   "outputs": [],
   "source": [
    "fft_waveform_shifted: np.ndarray = np.fft.fftshift(fft_waveform)\n",
    "fft_magnitude_shifted: np.ndarray = np.fft.fftshift(fft_magnitude)\n",
    "freqs_shifted: np.ndarray = np.fft.fftshift(freqs)"
   ]
  },
  {
   "cell_type": "code",
   "execution_count": null,
   "id": "b09ce651",
   "metadata": {},
   "outputs": [],
   "source": [
    "center_freq: float = 2450e6\n",
    "absolute_freqs = freqs_shifted + center_freq"
   ]
  },
  {
   "cell_type": "code",
   "execution_count": null,
   "id": "1afbe157",
   "metadata": {},
   "outputs": [
    {
     "data": {
      "image/png": "[encoded data removed]",
      "text/plain": [
       "<Figure size 1000x400 with 1 Axes>"
      ]
     },
     "metadata": {},
     "output_type": "display_data"
    }
   ],
   "source": [
    "plt.figure(figsize=(10, 4))\n",
    "plt.plot(absolute_freqs / 1e6, fft_magnitude_shifted)\n",
    "plt.title(\"Signal Spectrum (FFT)\")\n",
    "plt.xlabel(\"Frequency (MHz)\")\n",
    "plt.ylabel(\"Magnitude\")\n",
    "plt.grid(True)\n",
    "plt.tight_layout()\n",
    "plt.show()"
   ]
  },
  {
   "cell_type": "code",
   "execution_count": null,
   "id": "ebb87e77",
   "metadata": {},
   "outputs": [
    {
     "data": {
      "text/plain": [
       "100000"
      ]
     },
     "execution_count": 12,
     "metadata": {},
     "output_type": "execute_result"
    }
   ],
   "source": [
    "len(waveform)"
   ]
  }
 ],
 "metadata": {
  "kernelspec": {
   "display_name": "ml",
   "language": "python",
   "name": "python3"
  },
  "language_info": {
   "codemirror_mode": {
    "name": "ipython",
    "version": 3
   },
   "file_extension": ".py",
   "mimetype": "text/x-python",
   "name": "python",
   "nbconvert_exporter": "python",
   "pygments_lexer": "ipython3",
   "version": "3.12.11"
  }
 },
 "nbformat": 4,
 "nbformat_minor": 5
}
