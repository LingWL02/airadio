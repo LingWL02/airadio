{
 "cells": [
  {
   "cell_type": "code",
   "execution_count": 1,
   "id": "62a2bbef",
   "metadata": {},
   "outputs": [],
   "source": [
    "import ast\n",
    "import numpy as np\n",
    "import torch\n",
    "import matplotlib.pyplot as plt\n",
    "\n",
    "from constants import DEVICE\n",
    "from modules.data_utils import H5LazyDataset, DataUtils, MultiPipeline"
   ]
  },
  {
   "cell_type": "code",
   "execution_count": null,
   "id": "148647f8",
   "metadata": {},
   "outputs": [],
   "source": [
    "h5_lazy_dataset = H5LazyDataset(\n",
    "    'data/train/train.h5', 'waveforms', 'labels',\n",
    "    data_transforms=(\n",
    "        lambda data: torch.tensor(data, dtype=torch.complex64, device=DEVICE),\n",
    "        torch.fft.fft,\n",
    "        torch.abs,\n",
    "        lambda data: data.to(dtype=torch.float64),\n",
    "        DataUtils.min_max_normalize,\n",
    "        torch.fft.fftshift,\n",
    "    ),\n",
    "    label_transforms=(\n",
    "        lambda _bytes: _bytes.decode('utf-8'),\n",
    "        ast.literal_eval,\n",
    "        lambda label: torch.tensor(label, dtype=torch.float64, device=DEVICE),\n",
    "        MultiPipeline.split(2),\n",
    "        MultiPipeline.split(2),\n",
    "        MultiPipeline.apply(\n",
    "            DataUtils.identity,\n",
    "            MultiPipeline.apply(\n",
    "                MultiPipeline.split(3),\n",
    "                DataUtils.identity,\n",
    "            ),\n",
    "        ),\n",
    "        MultiPipeline.flatten\n",
    "    ),\n",
    ")"
   ]
  },
  {
   "cell_type": "code",
   "execution_count": 19,
   "id": "cf00fdfa",
   "metadata": {},
   "outputs": [
    {
     "name": "stdout",
     "output_type": "stream",
     "text": [
      "MultiPipeline(\n",
      "\ttensor([[2432., 2442.],\n",
      "        [2402., 2412.]], device='cuda:0', dtype=torch.float64),\n",
      "\ttensor([[2432., 2442.],\n",
      "        [2402., 2412.]], device='cuda:0', dtype=torch.float64),\n",
      "\ttensor([[2432., 2442.],\n",
      "        [2402., 2412.]], device='cuda:0', dtype=torch.float64),\n",
      "\ttensor([[2432., 2442.],\n",
      "        [2402., 2412.]], device='cuda:0', dtype=torch.float64),\n",
      "\ttensor([[2432., 2442.],\n",
      "        [2402., 2412.]], device='cuda:0', dtype=torch.float64),\n",
      "\ttensor([[2432., 2442.],\n",
      "        [2402., 2412.]], device='cuda:0', dtype=torch.float64)\n",
      ")\n"
     ]
    }
   ],
   "source": [
    "_, label = h5_lazy_dataset[1]\n",
    "print(label)"
   ]
  }
 ],
 "metadata": {
  "kernelspec": {
   "display_name": "ml",
   "language": "python",
   "name": "python3"
  },
  "language_info": {
   "codemirror_mode": {
    "name": "ipython",
    "version": 3
   },
   "file_extension": ".py",
   "mimetype": "text/x-python",
   "name": "python",
   "nbconvert_exporter": "python",
   "pygments_lexer": "ipython3",
   "version": "3.12.11"
  }
 },
 "nbformat": 4,
 "nbformat_minor": 5
}
